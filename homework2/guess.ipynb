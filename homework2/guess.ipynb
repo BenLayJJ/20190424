{
 "cells": [
  {
   "cell_type": "code",
   "execution_count": 6,
   "metadata": {},
   "outputs": [
    {
     "name": "stdout",
     "output_type": "stream",
     "text": [
      "請輸入數字:1\n",
      "錯誤\n",
      "請輸入數字:2\n",
      "錯誤\n",
      "請輸入數字:3\n",
      "錯誤\n",
      "請輸入數字:4\n",
      "錯誤\n",
      "請輸入數字:5\n",
      "錯誤\n",
      "請輸入數字:6\n",
      "錯誤\n",
      "請輸入數字:7\n",
      "錯誤\n",
      "請輸入數字:8\n",
      "恭喜你猜中了\n"
     ]
    }
   ],
   "source": [
    "while True: \n",
    "    x = input(\"請輸入數字:\")\n",
    "    if x == \"8\":\n",
    "        print(\"恭喜你猜中了\")\n",
    "        break\n",
    "    elif x == \"q\":\n",
    "        print(\"離開此程式!\")\n",
    "        break\n",
    "    else:\n",
    "        print(\"錯誤\")"
   ]
  },
  {
   "cell_type": "code",
   "execution_count": null,
   "metadata": {},
   "outputs": [],
   "source": []
  }
 ],
 "metadata": {
  "kernelspec": {
   "display_name": "Python 3",
   "language": "python",
   "name": "python3"
  }
 },
 "nbformat": 4,
 "nbformat_minor": 2
}
